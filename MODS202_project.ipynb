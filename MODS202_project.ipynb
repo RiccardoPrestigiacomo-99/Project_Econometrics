{
  "nbformat": 4,
  "nbformat_minor": 0,
  "metadata": {
    "kernelspec": {
      "display_name": "Python 3",
      "language": "python",
      "name": "python3"
    },
    "language_info": {
      "codemirror_mode": {
        "name": "ipython",
        "version": 3
      },
      "file_extension": ".py",
      "mimetype": "text/x-python",
      "name": "python",
      "nbconvert_exporter": "python",
      "pygments_lexer": "ipython3",
      "version": "3.8.5"
    },
    "colab": {
      "name": "MODS202_project.ipynb",
      "provenance": []
    }
  },
  "cells": [
    {
      "cell_type": "code",
      "metadata": {
        "id": "oOIwQhRRwFQb"
      },
      "source": [
        "import numpy as np\n",
        "import pandas as pd\n",
        "from matplotlib import pyplot as plt\n",
        "import statsmodels.api as sm\n",
        "from scipy.stats import t\n",
        "from scipy.stats import f\n",
        "from statsmodels.tsa.stattools import acf\n",
        "from statsmodels.tsa.stattools import pacf\n",
        "from statsmodels.graphics.tsaplots import plot_acf\n",
        "from statsmodels.graphics.tsaplots import plot_pacf"
      ],
      "execution_count": 20,
      "outputs": []
    },
    {
      "cell_type": "markdown",
      "metadata": {
        "id": "FUJlcL6OwFQm"
      },
      "source": [
        "# Part I"
      ]
    },
    {
      "cell_type": "code",
      "metadata": {
        "id": "ILEF4qtcwFQr"
      },
      "source": [
        "#  1. inlf                     =1 if in labor force, 1975\n",
        "#  2. hours                    hours worked, 1975\n",
        "#  3. kidslt6                  # kids < 6 years\n",
        "#  4. kidsge6                  # kids 6-18\n",
        "#  5. age                      woman's age in yrs\n",
        "#  6. educ                     years of schooling\n",
        "#  7. wage                     estimated wage from earns., hours\n",
        "#  8. repwage                  reported wage at interview in 1976\n",
        "#  9. hushrs                   hours worked by husband, 1975\n",
        "# 10. husage                   husband's age\n",
        "# 11. huseduc                  husband's years of schooling\n",
        "# 12. huswage                  husband's hourly wage, 1975\n",
        "# 13. faminc                   family income, 1975\n",
        "# 14. mtr                      fed. marginal tax rate facing woman\n",
        "# 15. motheduc                 mother's years of schooling\n",
        "# 16. fatheduc                 father's years of schooling\n",
        "# 17. unem                     unem. rate in county of resid.\n",
        "#18. city                     =1 if live in SMSA\n",
        "# 19. exper                    actual labor mkt exper\n",
        "# 20. nwifeinc                 (faminc - wage*hours)/1000\n",
        "# 21. lwage                    log(wage)\n",
        "# 22. expersq                  exper^2"
      ],
      "execution_count": 21,
      "outputs": []
    },
    {
      "cell_type": "code",
      "metadata": {
        "id": "UBj40XH5wFQt"
      },
      "source": [
        "data = pd.read_csv(\"MROZ.raw\", delim_whitespace=True, header=None)\n",
        "data = data[data[6]!=\".\"]\n",
        "data[4] = data[4].astype(int)\n",
        "data[5] = data[5].astype(int)\n",
        "data[6] = data[6].astype(float)\n",
        "data[20] = np.log(data[6])\n",
        "#age-> 4, educ -> 5, wage -> 6\n",
        "age = data[4]\n",
        "educ = data[5]\n",
        "wage = data[6]"
      ],
      "execution_count": 22,
      "outputs": []
    },
    {
      "cell_type": "markdown",
      "metadata": {
        "id": "IQeUs5jAwFQ3"
      },
      "source": [
        "## 2)"
      ]
    },
    {
      "cell_type": "markdown",
      "metadata": {
        "id": "bLI7zc-BwFQ4"
      },
      "source": [
        "### all dataset"
      ]
    },
    {
      "cell_type": "markdown",
      "metadata": {
        "id": "Xnd4wUHZwFQ6"
      },
      "source": [
        "### age"
      ]
    },
    {
      "cell_type": "code",
      "metadata": {
        "colab": {
          "base_uri": "https://localhost:8080/"
        },
        "id": "QS6aAV_CwFQ9",
        "outputId": "d179b43d-2ff7-4e8f-a38f-d0adbef0efc4"
      },
      "source": [
        "age.describe()"
      ],
      "execution_count": 23,
      "outputs": [
        {
          "output_type": "execute_result",
          "data": {
            "text/plain": [
              "count    428.000000\n",
              "mean      41.971963\n",
              "std        7.721084\n",
              "min       30.000000\n",
              "25%       35.000000\n",
              "50%       42.000000\n",
              "75%       47.250000\n",
              "max       60.000000\n",
              "Name: 4, dtype: float64"
            ]
          },
          "metadata": {},
          "execution_count": 23
        }
      ]
    },
    {
      "cell_type": "markdown",
      "metadata": {
        "id": "gWEsxMXFwFRC"
      },
      "source": [
        "### educ"
      ]
    },
    {
      "cell_type": "code",
      "metadata": {
        "colab": {
          "base_uri": "https://localhost:8080/"
        },
        "id": "nMR1wj1OwFRF",
        "outputId": "31663929-adc1-49ef-bc0f-c97cd8f4a22e"
      },
      "source": [
        "educ.describe()"
      ],
      "execution_count": 24,
      "outputs": [
        {
          "output_type": "execute_result",
          "data": {
            "text/plain": [
              "count    428.000000\n",
              "mean      12.658879\n",
              "std        2.285376\n",
              "min        5.000000\n",
              "25%       12.000000\n",
              "50%       12.000000\n",
              "75%       14.000000\n",
              "max       17.000000\n",
              "Name: 5, dtype: float64"
            ]
          },
          "metadata": {},
          "execution_count": 24
        }
      ]
    },
    {
      "cell_type": "markdown",
      "metadata": {
        "id": "NKFP0pAHwFRH"
      },
      "source": [
        "### wage"
      ]
    },
    {
      "cell_type": "code",
      "metadata": {
        "scrolled": true,
        "colab": {
          "base_uri": "https://localhost:8080/"
        },
        "id": "20QDbtTnwFRI",
        "outputId": "6b86f3c8-8a3c-4e12-e2a7-4e590fabf0b5"
      },
      "source": [
        "wage.describe()"
      ],
      "execution_count": 25,
      "outputs": [
        {
          "output_type": "execute_result",
          "data": {
            "text/plain": [
              "count    428.000000\n",
              "mean       4.177682\n",
              "std        3.310282\n",
              "min        0.128200\n",
              "25%        2.262600\n",
              "50%        3.481900\n",
              "75%        4.970750\n",
              "max       25.000000\n",
              "Name: 6, dtype: float64"
            ]
          },
          "metadata": {},
          "execution_count": 25
        }
      ]
    },
    {
      "cell_type": "code",
      "metadata": {
        "id": "Mww_G4_MwFRJ"
      },
      "source": [
        "#women with husband wage greater than the median of the all dataset\n",
        "husb_grt = data[data[11]>wage.median()]\n",
        "\n",
        "#women with husband wage lower than the median of the all dataset\n",
        "husb_lwr = data[data[11]<wage.median()]"
      ],
      "execution_count": 26,
      "outputs": []
    },
    {
      "cell_type": "code",
      "metadata": {
        "colab": {
          "base_uri": "https://localhost:8080/"
        },
        "id": "Z7UIT_4swFRL",
        "outputId": "cd92c63f-bc83-4df0-a2a2-ce5d225da1ae"
      },
      "source": [
        "husb_grt[4].describe()"
      ],
      "execution_count": 27,
      "outputs": [
        {
          "output_type": "execute_result",
          "data": {
            "text/plain": [
              "count    380.000000\n",
              "mean      41.973684\n",
              "std        7.674743\n",
              "min       30.000000\n",
              "25%       35.000000\n",
              "50%       43.000000\n",
              "75%       47.000000\n",
              "max       60.000000\n",
              "Name: 4, dtype: float64"
            ]
          },
          "metadata": {},
          "execution_count": 27
        }
      ]
    },
    {
      "cell_type": "code",
      "metadata": {
        "scrolled": true,
        "colab": {
          "base_uri": "https://localhost:8080/"
        },
        "id": "MLDPE-ygwFRM",
        "outputId": "bd5bc973-72cd-4830-b07e-3c584dfc0b3e"
      },
      "source": [
        "husb_grt[5].describe()"
      ],
      "execution_count": 28,
      "outputs": [
        {
          "output_type": "execute_result",
          "data": {
            "text/plain": [
              "count    380.000000\n",
              "mean      12.684211\n",
              "std        2.299538\n",
              "min        5.000000\n",
              "25%       12.000000\n",
              "50%       12.000000\n",
              "75%       14.000000\n",
              "max       17.000000\n",
              "Name: 5, dtype: float64"
            ]
          },
          "metadata": {},
          "execution_count": 28
        }
      ]
    },
    {
      "cell_type": "code",
      "metadata": {
        "colab": {
          "base_uri": "https://localhost:8080/"
        },
        "id": "dKGLsCH3wFRN",
        "outputId": "fb699a00-e934-47c6-8876-2c1503293f67"
      },
      "source": [
        "husb_grt[6].describe()"
      ],
      "execution_count": 29,
      "outputs": [
        {
          "output_type": "execute_result",
          "data": {
            "text/plain": [
              "count    380.000000\n",
              "mean       4.209165\n",
              "std        3.335807\n",
              "min        0.128200\n",
              "25%        2.274725\n",
              "50%        3.566500\n",
              "75%        5.089100\n",
              "max       25.000000\n",
              "Name: 6, dtype: float64"
            ]
          },
          "metadata": {},
          "execution_count": 29
        }
      ]
    },
    {
      "cell_type": "code",
      "metadata": {
        "colab": {
          "base_uri": "https://localhost:8080/"
        },
        "id": "XbB1hDYLwFRO",
        "outputId": "f53e4494-6b01-44f5-c1a9-cdf29a8ac767"
      },
      "source": [
        "husb_lwr[4].describe()"
      ],
      "execution_count": 30,
      "outputs": [
        {
          "output_type": "execute_result",
          "data": {
            "text/plain": [
              "count    48.000000\n",
              "mean     41.958333\n",
              "std       8.163120\n",
              "min      30.000000\n",
              "25%      35.000000\n",
              "50%      40.500000\n",
              "75%      49.250000\n",
              "max      59.000000\n",
              "Name: 4, dtype: float64"
            ]
          },
          "metadata": {},
          "execution_count": 30
        }
      ]
    },
    {
      "cell_type": "code",
      "metadata": {
        "scrolled": true,
        "colab": {
          "base_uri": "https://localhost:8080/"
        },
        "id": "2JZ19RGGwFRP",
        "outputId": "fe4cb49d-c6b1-4ae5-d970-07eab2f91214"
      },
      "source": [
        "husb_lwr[5].describe()"
      ],
      "execution_count": 31,
      "outputs": [
        {
          "output_type": "execute_result",
          "data": {
            "text/plain": [
              "count    48.000000\n",
              "mean     12.458333\n",
              "std       2.182701\n",
              "min       8.000000\n",
              "25%      11.750000\n",
              "50%      12.000000\n",
              "75%      14.000000\n",
              "max      16.000000\n",
              "Name: 5, dtype: float64"
            ]
          },
          "metadata": {},
          "execution_count": 31
        }
      ]
    },
    {
      "cell_type": "code",
      "metadata": {
        "colab": {
          "base_uri": "https://localhost:8080/"
        },
        "id": "b61TSDfWwFRQ",
        "outputId": "91fd136b-1b8b-4d66-acca-5b04c90b4a4b"
      },
      "source": [
        "husb_lwr[6].describe()"
      ],
      "execution_count": 32,
      "outputs": [
        {
          "output_type": "execute_result",
          "data": {
            "text/plain": [
              "count    48.000000\n",
              "mean      3.928438\n",
              "std       3.122774\n",
              "min       1.201900\n",
              "25%       2.135750\n",
              "50%       2.945800\n",
              "75%       4.352375\n",
              "max      18.267000\n",
              "Name: 6, dtype: float64"
            ]
          },
          "metadata": {},
          "execution_count": 32
        }
      ]
    },
    {
      "cell_type": "markdown",
      "metadata": {
        "id": "dKJHqOQZwFRR"
      },
      "source": [
        "## 3) Histogram"
      ]
    },
    {
      "cell_type": "code",
      "metadata": {
        "colab": {
          "base_uri": "https://localhost:8080/",
          "height": 295
        },
        "id": "a1Gas_58wFRS",
        "outputId": "39b95417-a462-4d08-abb4-712dda96b43e"
      },
      "source": [
        "plt.title(\"Histogram of women wage\")\n",
        "plt.hist(wage,\"auto\");\n",
        "plt.xlabel(\"wage\")\n",
        "plt.ylabel(\"freq\")\n",
        "plt.savefig(\"wage.png\")"
      ],
      "execution_count": 33,
      "outputs": [
        {
          "output_type": "display_data",
          "data": {
            "image/png": "[encoded data removed]",
            "text/plain": [
              "<Figure size 432x288 with 1 Axes>"
            ]
          },
          "metadata": {
            "needs_background": "light"
          }
        }
      ]
    },
    {
      "cell_type": "code",
      "metadata": {
        "colab": {
          "base_uri": "https://localhost:8080/",
          "height": 295
        },
        "id": "ZO1E4YHWwFRT",
        "outputId": "1aebbcdc-bf4a-4be2-f3c8-72e75af77d4b"
      },
      "source": [
        "plt.title(\"Histogram of women log wage\")\n",
        "plt.hist(data[20], \"auto\");\n",
        "plt.ylabel(\"freq\")\n",
        "plt.xlabel(\"log(wage)\")\n",
        "plt.savefig(\"logwage.png\")"
      ],
      "execution_count": 34,
      "outputs": [
        {
          "output_type": "display_data",
          "data": {
            "image/png": "[encoded data removed]",
            "text/plain": [
              "<Figure size 432x288 with 1 Axes>"
            ]
          },
          "metadata": {
            "needs_background": "light"
          }
        }
      ]
    },
    {
      "cell_type": "markdown",
      "metadata": {
        "id": "lvWdNEdSwFRU"
      },
      "source": [
        "## 4) Correlation between motheduc and fatheduc"
      ]
    },
    {
      "cell_type": "code",
      "metadata": {
        "colab": {
          "base_uri": "https://localhost:8080/"
        },
        "id": "Dmh6o9GpwFRV",
        "outputId": "1aad29f1-d7d1-4df2-bf17-4c81d7c4e4a4"
      },
      "source": [
        "educ_mother = data[14]\n",
        "educ_father = data[15]\n",
        "\n",
        "corr = np.corrcoef(educ_mother, educ_father)\n",
        "print(\"The Pearson coefficent is equal to\", (corr[0][1]).round(3))"
      ],
      "execution_count": 35,
      "outputs": [
        {
          "output_type": "stream",
          "name": "stdout",
          "text": [
            "The Pearson coefficent is equal to 0.554\n"
          ]
        }
      ]
    },
    {
      "cell_type": "markdown",
      "metadata": {
        "id": "V9U-jJoawFRV"
      },
      "source": [
        "## 5) Dispersion graphs"
      ]
    },
    {
      "cell_type": "code",
      "metadata": {
        "colab": {
          "base_uri": "https://localhost:8080/",
          "height": 295
        },
        "id": "UYmkZwnBwFRW",
        "outputId": "fc32895b-8c13-4dc2-9b1a-52cd9a04ffad"
      },
      "source": [
        "plt.xlabel(\"Educ\")\n",
        "plt.ylabel(\"Wage\")\n",
        "plt.title(\"Scatter plot Wage and Education\")\n",
        "plt.scatter(educ, wage);\n",
        "plt.savefig(\"wage-educ.png\")"
      ],
      "execution_count": 36,
      "outputs": [
        {
          "output_type": "display_data",
          "data": {
            "image/png": "[encoded data removed]",
            "text/plain": [
              "<Figure size 432x288 with 1 Axes>"
            ]
          },
          "metadata": {
            "needs_background": "light"
          }
        }
      ]
    },
    {
      "cell_type": "code",
      "metadata": {
        "colab": {
          "base_uri": "https://localhost:8080/",
          "height": 295
        },
        "id": "-4BKF3aTwFRX",
        "outputId": "3f9ff898-90b4-472d-bebe-4bfa367601de"
      },
      "source": [
        "exper = data[18]\n",
        "\n",
        "plt.xlabel(\"Exper\")\n",
        "plt.ylabel(\"Wage\")\n",
        "plt.title(\"Scatter plot Wage and Experience\")\n",
        "plt.scatter(exper, wage);\n",
        "plt.savefig(\"wage-exper.png\")"
      ],
      "execution_count": 37,
      "outputs": [
        {
          "output_type": "display_data",
          "data": {
            "image/png": "[encoded data removed]",
            "text/plain": [
              "<Figure size 432x288 with 1 Axes>"
            ]
          },
          "metadata": {
            "needs_background": "light"
          }
        }
      ]
    },
    {
      "cell_type": "code",
      "metadata": {
        "colab": {
          "base_uri": "https://localhost:8080/",
          "height": 295
        },
        "id": "_HnEGoaJwFRZ",
        "outputId": "44be4b1d-c3de-496b-a549-f7f2d2521bf9"
      },
      "source": [
        "plt.ylabel(\"Wage\")\n",
        "plt.xlabel(\"Father Educ\")\n",
        "plt.title(\"Scatter plot Wage and Father education\")\n",
        "plt.scatter(educ_father, wage);\n",
        "plt.savefig(\"wage-fathereduc.png\")"
      ],
      "execution_count": 38,
      "outputs": [
        {
          "output_type": "display_data",
          "data": {
            "image/png": "[encoded data removed]",
            "text/plain": [
              "<Figure size 432x288 with 1 Axes>"
            ]
          },
          "metadata": {
            "needs_background": "light"
          }
        }
      ]
    },
    {
      "cell_type": "markdown",
      "metadata": {
        "id": "5wJtnFwgwFRa"
      },
      "source": [
        "## 7)  "
      ]
    },
    {
      "cell_type": "code",
      "metadata": {
        "colab": {
          "base_uri": "https://localhost:8080/",
          "height": 295
        },
        "id": "XmEzh3HQ4PPF",
        "outputId": "d04be89d-2537-405e-9c9e-0a046dd2e9dd"
      },
      "source": [
        "#response variable\n",
        "y = wage\n",
        "#const\n",
        "const = np.ones(np.shape(wage))\n",
        "\n",
        "#variables\n",
        "city = data[17]\n",
        "nwifeinc = data[19]\n",
        "kidslt6 = data[2]\n",
        "kidsge6 = data[3]\n",
        "\n",
        "X = np.column_stack((const, city, educ, exper, nwifeinc, kidslt6, kidsge6))\n",
        "\n",
        "model = sm.OLS(y,X)\n",
        "results = model.fit()\n",
        "plt.hist(results.resid, \"auto\");\n",
        "plt.title(\"Histogram of residuals\")\n",
        "plt.ylabel(\"freq\")\n",
        "plt.xlabel(\"residual errors\")\n",
        "plt.savefig(\"residualerrors.png\")"
      ],
      "execution_count": 39,
      "outputs": [
        {
          "output_type": "display_data",
          "data": {
            "image/png": "[encoded data removed]",
            "text/plain": [
              "<Figure size 432x288 with 1 Axes>"
            ]
          },
          "metadata": {
            "needs_background": "light"
          }
        }
      ]
    },
    {
      "cell_type": "markdown",
      "metadata": {
        "id": "ox_yE_PcwFRc"
      },
      "source": [
        "## 8)"
      ]
    },
    {
      "cell_type": "code",
      "metadata": {
        "colab": {
          "base_uri": "https://localhost:8080/",
          "height": 295
        },
        "id": "LtYIq3Mx5Nzt",
        "outputId": "d4c3a9cf-3c1e-4e1d-98ad-0437505d1579"
      },
      "source": [
        "#response variable, now we use the logwage\n",
        "y = data[20]\n",
        "#const\n",
        "const = np.ones(np.shape(wage))\n",
        "\n",
        "#variables\n",
        "city = data[17]\n",
        "nwifeinc = data[19]\n",
        "kidslt6 = data[2]\n",
        "kidsge6 = data[3]\n",
        "\n",
        "X = np.column_stack((const, city, educ, exper, nwifeinc, kidslt6, kidsge6))\n",
        "\n",
        "model = sm.OLS(y,X)\n",
        "results = model.fit()\n",
        "plt.hist(results.resid, \"auto\");\n",
        "plt.title(\"Histogram of residuals (log model)\")\n",
        "plt.ylabel(\"freq\")\n",
        "plt.xlabel(\"residual errors (log model)\")\n",
        "plt.savefig(\"residualerrorslogmodel.png\")"
      ],
      "execution_count": 40,
      "outputs": [
        {
          "output_type": "display_data",
          "data": {
            "image/png": "[encoded data removed]",
            "text/plain": [
              "<Figure size 432x288 with 1 Axes>"
            ]
          },
          "metadata": {
            "needs_background": "light"
          }
        }
      ]
    },
    {
      "cell_type": "markdown",
      "metadata": {
        "id": "Z_yVc-MawFRd"
      },
      "source": [
        "## 9)"
      ]
    },
    {
      "cell_type": "code",
      "metadata": {
        "colab": {
          "base_uri": "https://localhost:8080/"
        },
        "id": "uy6o7b1YwFRe",
        "outputId": "f5c74b0c-d90e-4679-a27e-8fd813d54271"
      },
      "source": [
        "y_log = data[20]\n",
        "model = sm.OLS(y_log, X)\n",
        "results = model.fit()\n",
        "print(results.summary())"
      ],
      "execution_count": 42,
      "outputs": [
        {
          "output_type": "stream",
          "name": "stdout",
          "text": [
            "                            OLS Regression Results                            \n",
            "==============================================================================\n",
            "Dep. Variable:                     20   R-squared:                       0.156\n",
            "Model:                            OLS   Adj. R-squared:                  0.144\n",
            "Method:                 Least Squares   F-statistic:                     12.92\n",
            "Date:                Fri, 19 Nov 2021   Prob (F-statistic):           2.00e-13\n",
            "Time:                        09:54:05   Log-Likelihood:                -431.92\n",
            "No. Observations:                 428   AIC:                             877.8\n",
            "Df Residuals:                     421   BIC:                             906.3\n",
            "Df Model:                           6                                         \n",
            "Covariance Type:            nonrobust                                         \n",
            "==============================================================================\n",
            "                 coef    std err          t      P>|t|      [0.025      0.975]\n",
            "------------------------------------------------------------------------------\n",
            "const         -0.3990      0.207     -1.927      0.055      -0.806       0.008\n",
            "x1             0.0353      0.070      0.503      0.616      -0.103       0.173\n",
            "x2             0.1022      0.015      6.771      0.000       0.073       0.132\n",
            "x3             0.0155      0.004      3.452      0.001       0.007       0.024\n",
            "x4             0.0049      0.003      1.466      0.143      -0.002       0.011\n",
            "x5            -0.0453      0.085     -0.531      0.596      -0.213       0.122\n",
            "x6            -0.0117      0.027     -0.434      0.664      -0.065       0.041\n",
            "==============================================================================\n",
            "Omnibus:                       79.542   Durbin-Watson:                   1.979\n",
            "Prob(Omnibus):                  0.000   Jarque-Bera (JB):              287.193\n",
            "Skew:                          -0.795   Prob(JB):                     4.33e-63\n",
            "Kurtosis:                       6.685   Cond. No.                         178.\n",
            "==============================================================================\n",
            "\n",
            "Warnings:\n",
            "[1] Standard Errors assume that the covariance matrix of the errors is correctly specified.\n"
          ]
        }
      ]
    },
    {
      "cell_type": "markdown",
      "metadata": {
        "id": "TwynHf9twFRe"
      },
      "source": [
        "## 10)"
      ]
    },
    {
      "cell_type": "code",
      "metadata": {
        "colab": {
          "base_uri": "https://localhost:8080/"
        },
        "id": "mpkQhuZawFRf",
        "outputId": "0e16bb96-2a80-4c5a-a3ea-ec838c827f38"
      },
      "source": [
        "betas = results.params\n",
        "std = results.bse\n",
        "\n",
        "n, k = np.shape(X)\n",
        "t_statistic = (betas[4]-0.01)/std[4]\n",
        "\n",
        "p_value = 2*(1-t.sf(t_statistic, n-k))\n",
        "print(\"The p_value is:\", p_value.round(3)*100,\"%\")"
      ],
      "execution_count": 43,
      "outputs": [
        {
          "output_type": "stream",
          "name": "stdout",
          "text": [
            "The p_value is: 12.5 %\n"
          ]
        }
      ]
    },
    {
      "cell_type": "markdown",
      "metadata": {
        "id": "NnILc2h_wFRg"
      },
      "source": [
        "## 11)"
      ]
    },
    {
      "cell_type": "code",
      "metadata": {
        "colab": {
          "base_uri": "https://localhost:8080/"
        },
        "id": "JcUwBq6xwFRg",
        "outputId": "5835f12f-9fe8-4f16-a24e-2991e9c0c9fc"
      },
      "source": [
        "#unconstrained model\n",
        "u_full = results.resid\n",
        "SSR0 = u_full.T@u_full\n",
        "\n",
        "\n",
        "#constrained model\n",
        "X_constrained = np.column_stack((const, educ, exper, kidslt6, kidsge6))\n",
        "y_constrained = y_log - 0.01*nwifeinc - 0.05*city\n",
        "\n",
        "model_constrained = sm.OLS(y_constrained, X_constrained)\n",
        "results_constrained = model_constrained.fit()\n",
        "results_constrained.summary()\n",
        "\n",
        "u = results_constrained.resid\n",
        "SSR1=u.T@u\n",
        "\n",
        "\n",
        "\n",
        "F=((SSR1 - SSR0) / 2)/ (SSR0 / (n-k))\n",
        "\n",
        "print(f\"The F-statistic is {F:.3f}, p-value: {f.sf(F,2,n-k):.3f}\")\n",
        "print()"
      ],
      "execution_count": 44,
      "outputs": [
        {
          "output_type": "stream",
          "name": "stdout",
          "text": [
            "The F-statistic is 1.337, p-value: 0.264\n",
            "\n"
          ]
        }
      ]
    },
    {
      "cell_type": "markdown",
      "metadata": {
        "id": "N-tNvO8ZwFRh"
      },
      "source": [
        "## 12)"
      ]
    },
    {
      "cell_type": "code",
      "metadata": {
        "colab": {
          "base_uri": "https://localhost:8080/",
          "height": 828
        },
        "id": "NlzFUqqlwFRh",
        "outputId": "bfe8c0df-03e1-4bdb-c39d-0093dd612248"
      },
      "source": [
        "X = np.column_stack((const, city, educ, exper, nwifeinc, kidslt6, kidsge6)) \n",
        "y = data[20]\n",
        "model = sm.OLS(y,X) \n",
        "results = model.fit() \n",
        "print(results.summary())\n",
        "\n",
        "\n",
        "plt.scatter(educ, y_log)\n",
        "plt.xlabel(\"Years of education\")\n",
        "plt.ylabel(\"wage\")\n",
        "plt.title(\"Wage and education\")\n",
        "plt.plot(educ, results.params[0]+results.params[2]*educ, c=\"orange\");\n",
        "plt.savefig(\"wageeduc.png\")"
      ],
      "execution_count": 45,
      "outputs": [
        {
          "output_type": "stream",
          "name": "stdout",
          "text": [
            "                            OLS Regression Results                            \n",
            "==============================================================================\n",
            "Dep. Variable:                     20   R-squared:                       0.156\n",
            "Model:                            OLS   Adj. R-squared:                  0.144\n",
            "Method:                 Least Squares   F-statistic:                     12.92\n",
            "Date:                Fri, 19 Nov 2021   Prob (F-statistic):           2.00e-13\n",
            "Time:                        09:54:22   Log-Likelihood:                -431.92\n",
            "No. Observations:                 428   AIC:                             877.8\n",
            "Df Residuals:                     421   BIC:                             906.3\n",
            "Df Model:                           6                                         \n",
            "Covariance Type:            nonrobust                                         \n",
            "==============================================================================\n",
            "                 coef    std err          t      P>|t|      [0.025      0.975]\n",
            "------------------------------------------------------------------------------\n",
            "const         -0.3990      0.207     -1.927      0.055      -0.806       0.008\n",
            "x1             0.0353      0.070      0.503      0.616      -0.103       0.173\n",
            "x2             0.1022      0.015      6.771      0.000       0.073       0.132\n",
            "x3             0.0155      0.004      3.452      0.001       0.007       0.024\n",
            "x4             0.0049      0.003      1.466      0.143      -0.002       0.011\n",
            "x5            -0.0453      0.085     -0.531      0.596      -0.213       0.122\n",
            "x6            -0.0117      0.027     -0.434      0.664      -0.065       0.041\n",
            "==============================================================================\n",
            "Omnibus:                       79.542   Durbin-Watson:                   1.979\n",
            "Prob(Omnibus):                  0.000   Jarque-Bera (JB):              287.193\n",
            "Skew:                          -0.795   Prob(JB):                     4.33e-63\n",
            "Kurtosis:                       6.685   Cond. No.                         178.\n",
            "==============================================================================\n",
            "\n",
            "Warnings:\n",
            "[1] Standard Errors assume that the covariance matrix of the errors is correctly specified.\n"
          ]
        },
        {
          "output_type": "display_data",
          "data": {
            "image/png": "[encoded data removed]",
            "text/plain": [
              "<Figure size 432x288 with 1 Axes>"
            ]
          },
          "metadata": {
            "needs_background": "light"
          }
        }
      ]
    },
    {
      "cell_type": "code",
      "metadata": {
        "colab": {
          "base_uri": "https://localhost:8080/",
          "height": 295
        },
        "id": "LyJTJZY9wFRi",
        "outputId": "f896e1d8-6e6f-4529-e5d0-75939afd793a"
      },
      "source": [
        "plt.scatter(exper, y_log)\n",
        "\n",
        "plt.xlabel(\"Years of experience\")\n",
        "plt.ylabel(\"wage\")\n",
        "plt.title(\"Wage and experience\")\n",
        "plt.plot(exper, results.params[0]+results.params[3]*exper, c=\"orange\");\n",
        "plt.savefig(\"wageexper.png\")"
      ],
      "execution_count": 46,
      "outputs": [
        {
          "output_type": "display_data",
          "data": {
            "image/png": "[encoded data removed]",
            "text/plain": [
              "<Figure size 432x288 with 1 Axes>"
            ]
          },
          "metadata": {
            "needs_background": "light"
          }
        }
      ]
    },
    {
      "cell_type": "markdown",
      "metadata": {
        "id": "qGpGWweiwFRi"
      },
      "source": [
        "## 13)"
      ]
    },
    {
      "cell_type": "code",
      "metadata": {
        "colab": {
          "base_uri": "https://localhost:8080/"
        },
        "id": "ybGRN7tMwFRj",
        "outputId": "3ced7710-e36d-42e8-f579-4ee0244b1054"
      },
      "source": [
        "kids = kidslt6+kidsge6\n",
        "X_1 = np.column_stack((const, city, educ, exper, nwifeinc, kidslt6, kids))\n",
        "\n",
        "model_temp = sm.OLS(y_log, X_1)\n",
        "results_temp = model_temp.fit()\n",
        "print(results_temp.summary())\n",
        "se_joint = results.bse[5]"
      ],
      "execution_count": 47,
      "outputs": [
        {
          "output_type": "stream",
          "name": "stdout",
          "text": [
            "                            OLS Regression Results                            \n",
            "==============================================================================\n",
            "Dep. Variable:                     20   R-squared:                       0.156\n",
            "Model:                            OLS   Adj. R-squared:                  0.144\n",
            "Method:                 Least Squares   F-statistic:                     12.92\n",
            "Date:                Fri, 19 Nov 2021   Prob (F-statistic):           2.00e-13\n",
            "Time:                        09:54:33   Log-Likelihood:                -431.92\n",
            "No. Observations:                 428   AIC:                             877.8\n",
            "Df Residuals:                     421   BIC:                             906.3\n",
            "Df Model:                           6                                         \n",
            "Covariance Type:            nonrobust                                         \n",
            "==============================================================================\n",
            "                 coef    std err          t      P>|t|      [0.025      0.975]\n",
            "------------------------------------------------------------------------------\n",
            "const         -0.3990      0.207     -1.927      0.055      -0.806       0.008\n",
            "x1             0.0353      0.070      0.503      0.616      -0.103       0.173\n",
            "x2             0.1022      0.015      6.771      0.000       0.073       0.132\n",
            "x3             0.0155      0.004      3.452      0.001       0.007       0.024\n",
            "x4             0.0049      0.003      1.466      0.143      -0.002       0.011\n",
            "x5            -0.0336      0.090     -0.372      0.710      -0.211       0.144\n",
            "x6            -0.0117      0.027     -0.434      0.664      -0.065       0.041\n",
            "==============================================================================\n",
            "Omnibus:                       79.542   Durbin-Watson:                   1.979\n",
            "Prob(Omnibus):                  0.000   Jarque-Bera (JB):              287.193\n",
            "Skew:                          -0.795   Prob(JB):                     4.33e-63\n",
            "Kurtosis:                       6.685   Cond. No.                         178.\n",
            "==============================================================================\n",
            "\n",
            "Warnings:\n",
            "[1] Standard Errors assume that the covariance matrix of the errors is correctly specified.\n"
          ]
        }
      ]
    },
    {
      "cell_type": "markdown",
      "metadata": {
        "id": "ZIHjQd80wFRk"
      },
      "source": [
        "## 14)"
      ]
    },
    {
      "cell_type": "code",
      "metadata": {
        "colab": {
          "base_uri": "https://localhost:8080/"
        },
        "id": "Rkxb1nt5wFRl",
        "outputId": "1bd66770-340d-4582-a626-db8539a6b110"
      },
      "source": [
        "#model 7\n",
        "#rewrite below\n",
        "\n",
        "y = wage\n",
        "\n",
        "X = np.column_stack((const, city, educ, exper, nwifeinc, kidslt6, kidsge6))\n",
        "model_7 = sm.OLS(y, X)\n",
        "results_7 = model_7.fit()\n",
        "u_7 = results_7.resid\n",
        "\n",
        "#to test heteroskedasticity I create a new model with the residual as response variable\n",
        "\n",
        "y_u = u_7**2\n",
        "\n",
        "model_het = sm.OLS(y_u, X)\n",
        "results_het = model_het.fit()\n",
        "print(results_het.summary())\n",
        "print(\"The F-statistic for our test is\", results_het.fvalue.round(3))\n"
      ],
      "execution_count": 48,
      "outputs": [
        {
          "output_type": "stream",
          "name": "stdout",
          "text": [
            "                            OLS Regression Results                            \n",
            "==============================================================================\n",
            "Dep. Variable:                      y   R-squared:                       0.022\n",
            "Model:                            OLS   Adj. R-squared:                  0.008\n",
            "Method:                 Least Squares   F-statistic:                     1.593\n",
            "Date:                Fri, 19 Nov 2021   Prob (F-statistic):              0.148\n",
            "Time:                        09:54:42   Log-Likelihood:                -2207.4\n",
            "No. Observations:                 428   AIC:                             4429.\n",
            "Df Residuals:                     421   BIC:                             4457.\n",
            "Df Model:                           6                                         \n",
            "Covariance Type:            nonrobust                                         \n",
            "==============================================================================\n",
            "                 coef    std err          t      P>|t|      [0.025      0.975]\n",
            "------------------------------------------------------------------------------\n",
            "const          1.4856     13.111      0.113      0.910     -24.285      27.256\n",
            "x1             5.9644      4.444      1.342      0.180      -2.770      14.699\n",
            "x2             0.8077      0.956      0.845      0.399      -1.072       2.687\n",
            "x3            -0.5341      0.284     -1.880      0.061      -1.093       0.024\n",
            "x4             0.0435      0.211      0.206      0.837      -0.371       0.458\n",
            "x5             4.9573      5.402      0.918      0.359      -5.661      15.575\n",
            "x6            -0.4018      1.706     -0.236      0.814      -3.756       2.952\n",
            "==============================================================================\n",
            "Omnibus:                      638.793   Durbin-Watson:                   2.029\n",
            "Prob(Omnibus):                  0.000   Jarque-Bera (JB):            96122.227\n",
            "Skew:                           8.127   Prob(JB):                         0.00\n",
            "Kurtosis:                      74.595   Cond. No.                         178.\n",
            "==============================================================================\n",
            "\n",
            "Warnings:\n",
            "[1] Standard Errors assume that the covariance matrix of the errors is correctly specified.\n",
            "The F-statistic for our test is 1.593\n"
          ]
        }
      ]
    },
    {
      "cell_type": "markdown",
      "metadata": {
        "id": "QoBrwf3ZwFRm"
      },
      "source": [
        "## 15)"
      ]
    },
    {
      "cell_type": "code",
      "metadata": {
        "colab": {
          "base_uri": "https://localhost:8080/"
        },
        "id": "Eb5CnH2gwFRm",
        "outputId": "2d3c37fe-446a-4a22-f107-8a8b3d657ce3"
      },
      "source": [
        "educgt43 = (data[4]>43)*educ\n",
        "citygt43 = (data[4]>43)*city\n",
        "expergt43 = (data[4]>43)*exper\n",
        "nwifeincgt43 = (data[4]>43)*nwifeinc\n",
        "kidslt6gt43 = (data[4]>43)*kidslt6\n",
        "kidsge6gt43 = (data[4]>43)*kidsge6\n",
        "\n",
        "X_changed = np.column_stack((const, educgt43, citygt43, expergt43, nwifeincgt43, kidslt6gt43, kidsge6gt43,\n",
        "                     city, educ, exper, nwifeinc, kidslt6, kidsge6)) \n",
        "n, k = X_changed.shape\n",
        "model_changed = sm.OLS(y_log, X_changed)\n",
        "res_changed = model_changed.fit()\n",
        "\n",
        "SSR0 = res_changed.resid.T@res_changed.resid\n",
        "SSR1 = results.resid.T@results.resid\n",
        "((SSR1-SSR0)/6)/(SSR0/(n-k-1)), SSR0, SSR1"
      ],
      "execution_count": 49,
      "outputs": [
        {
          "output_type": "execute_result",
          "data": {
            "text/plain": [
              "(0.918517709191737, 186.11247172752658, 188.58997319394948)"
            ]
          },
          "metadata": {},
          "execution_count": 49
        }
      ]
    },
    {
      "cell_type": "code",
      "metadata": {
        "colab": {
          "base_uri": "https://localhost:8080/"
        },
        "id": "5uefIfUinAiL",
        "outputId": "aad19bd8-fb7c-4190-d8a3-38ddbcfe4f42"
      },
      "source": [
        "#simple method \n",
        "mask_gt = data[4]>43\n",
        "mask_le = data[4]<=43\n",
        "\n",
        "X_gt = X[mask_gt]\n",
        "y_gt = y_log[mask_gt]\n",
        "model_gt = sm.OLS(y_gt, X_gt)\n",
        "result_gt = model_gt.fit()\n",
        "u_gt = result_gt.resid\n",
        "SSR_gt = u_gt.T@u_gt\n",
        "\n",
        "X_le = X[mask_le]\n",
        "y_le = y_log[mask_le]\n",
        "model_le = sm.OLS(y_le, X_le)\n",
        "result_le = model_le.fit()\n",
        "u_le = result_le.resid\n",
        "SSR_le = u_le.T@u_le\n",
        "\n",
        "SSRT = SSR_gt + SSR_le\n",
        "\n",
        "F = ((SSR1-SSRT)/7)/(SSRT/(n-k-1))\n",
        "p_value = f.sf(F, 7, n-7)\n",
        "print(f\"The F-statistic is {F:.4f}, p-value: {f.sf(F,7,n-7):.4f}\")\n",
        "SSRT"
      ],
      "execution_count": 50,
      "outputs": [
        {
          "output_type": "stream",
          "name": "stdout",
          "text": [
            "The F-statistic is 0.8260, p-value: 0.5660\n"
          ]
        },
        {
          "output_type": "execute_result",
          "data": {
            "text/plain": [
              "185.99225242037733"
            ]
          },
          "metadata": {},
          "execution_count": 50
        }
      ]
    },
    {
      "cell_type": "markdown",
      "metadata": {
        "id": "-5-Hil2FwFRm"
      },
      "source": [
        "## 16)"
      ]
    },
    {
      "cell_type": "code",
      "metadata": {
        "colab": {
          "base_uri": "https://localhost:8080/"
        },
        "id": "oIFwXwF0wFRn",
        "outputId": "46c2bd90-3fed-4cc4-8d33-0b4afb28f240"
      },
      "source": [
        "educgt43 = (data[4]>43)*educ\n",
        "expergt43 = (data[4]>43)*exper\n",
        "\n",
        "X_16 = np.column_stack((const, educgt43, expergt43, city, educ, exper, nwifeinc, kidslt6, kidsge6)) \n",
        "n, k = X_16.shape\n",
        "model_16 = sm.OLS(y_log, X_16)\n",
        "res_16 = model_16.fit()\n",
        "\n",
        "SSR0 = res_16.resid.T@res_16.resid\n",
        "SSR1 = results.resid.T@results.resid\n",
        "F_16 = ((SSR1-SSR0)/2)/(SSR0/(n-k-1))\n",
        "SSR0, F_16, f.sf(F_16, 2, n-2)\n",
        "print(f\"The F-statistic is {F_16:.4f}, p-value: {f.sf(F_16,2,n-2):.4f}\")"
      ],
      "execution_count": 51,
      "outputs": [
        {
          "output_type": "stream",
          "name": "stdout",
          "text": [
            "The F-statistic is 2.1026, p-value: 0.1234\n"
          ]
        }
      ]
    },
    {
      "cell_type": "markdown",
      "metadata": {
        "id": "vXhN1QGdwFRn"
      },
      "source": [
        "# Part II"
      ]
    },
    {
      "cell_type": "code",
      "metadata": {
        "id": "x8JvZfHmwFRo"
      },
      "source": [
        "df = pd.read_excel(\"quarterly.xls\")"
      ],
      "execution_count": 52,
      "outputs": []
    },
    {
      "cell_type": "code",
      "metadata": {
        "colab": {
          "base_uri": "https://localhost:8080/",
          "height": 204
        },
        "id": "Y31VFZXqwFRo",
        "outputId": "389f5a64-09f3-4d9d-898a-e1266e752ab3"
      },
      "source": [
        "df.head()"
      ],
      "execution_count": 53,
      "outputs": [
        {
          "output_type": "execute_result",
          "data": {
            "text/html": [
              "<div>\n",
              "<style scoped>\n",
              "    .dataframe tbody tr th:only-of-type {\n",
              "        vertical-align: middle;\n",
              "    }\n",
              "\n",
              "    .dataframe tbody tr th {\n",
              "        vertical-align: top;\n",
              "    }\n",
              "\n",
              "    .dataframe thead th {\n",
              "        text-align: right;\n",
              "    }\n",
              "</style>\n",
              "<table border=\"1\" class=\"dataframe\">\n",
              "  <thead>\n",
              "    <tr style=\"text-align: right;\">\n",
              "      <th></th>\n",
              "      <th>DATE</th>\n",
              "      <th>FFR</th>\n",
              "      <th>Tbill</th>\n",
              "      <th>Tb1yr</th>\n",
              "      <th>r5</th>\n",
              "      <th>r10</th>\n",
              "      <th>PPINSA</th>\n",
              "      <th>Finished</th>\n",
              "      <th>CPI</th>\n",
              "      <th>CPICORE</th>\n",
              "      <th>M1NSA</th>\n",
              "      <th>M2SA</th>\n",
              "      <th>M2NSA</th>\n",
              "      <th>Unemp</th>\n",
              "      <th>IndProd</th>\n",
              "      <th>RGDP</th>\n",
              "      <th>Potent</th>\n",
              "      <th>Deflator</th>\n",
              "      <th>Curr</th>\n",
              "    </tr>\n",
              "  </thead>\n",
              "  <tbody>\n",
              "    <tr>\n",
              "      <th>0</th>\n",
              "      <td>1960Q1</td>\n",
              "      <td>3.93</td>\n",
              "      <td>3.87</td>\n",
              "      <td>4.57</td>\n",
              "      <td>4.64</td>\n",
              "      <td>4.49</td>\n",
              "      <td>31.67</td>\n",
              "      <td>33.20</td>\n",
              "      <td>29.40</td>\n",
              "      <td>18.92</td>\n",
              "      <td>140.53</td>\n",
              "      <td>896.1</td>\n",
              "      <td>299.40</td>\n",
              "      <td>5.13</td>\n",
              "      <td>23.93</td>\n",
              "      <td>2845.3</td>\n",
              "      <td>2824.2</td>\n",
              "      <td>18.521</td>\n",
              "      <td>31.830</td>\n",
              "    </tr>\n",
              "    <tr>\n",
              "      <th>1</th>\n",
              "      <td>1960Q2</td>\n",
              "      <td>3.70</td>\n",
              "      <td>2.99</td>\n",
              "      <td>3.87</td>\n",
              "      <td>4.30</td>\n",
              "      <td>4.26</td>\n",
              "      <td>31.73</td>\n",
              "      <td>33.40</td>\n",
              "      <td>29.57</td>\n",
              "      <td>19.00</td>\n",
              "      <td>138.40</td>\n",
              "      <td>903.3</td>\n",
              "      <td>300.03</td>\n",
              "      <td>5.23</td>\n",
              "      <td>23.41</td>\n",
              "      <td>2832.0</td>\n",
              "      <td>2851.2</td>\n",
              "      <td>18.579</td>\n",
              "      <td>31.862</td>\n",
              "    </tr>\n",
              "    <tr>\n",
              "      <th>2</th>\n",
              "      <td>1960Q3</td>\n",
              "      <td>2.94</td>\n",
              "      <td>2.36</td>\n",
              "      <td>3.07</td>\n",
              "      <td>3.67</td>\n",
              "      <td>3.83</td>\n",
              "      <td>31.63</td>\n",
              "      <td>33.43</td>\n",
              "      <td>29.59</td>\n",
              "      <td>19.07</td>\n",
              "      <td>139.60</td>\n",
              "      <td>919.4</td>\n",
              "      <td>305.50</td>\n",
              "      <td>5.53</td>\n",
              "      <td>23.02</td>\n",
              "      <td>2836.6</td>\n",
              "      <td>2878.7</td>\n",
              "      <td>18.648</td>\n",
              "      <td>32.217</td>\n",
              "    </tr>\n",
              "    <tr>\n",
              "      <th>3</th>\n",
              "      <td>1960Q4</td>\n",
              "      <td>2.30</td>\n",
              "      <td>2.31</td>\n",
              "      <td>2.99</td>\n",
              "      <td>3.75</td>\n",
              "      <td>3.89</td>\n",
              "      <td>31.70</td>\n",
              "      <td>33.67</td>\n",
              "      <td>29.78</td>\n",
              "      <td>19.14</td>\n",
              "      <td>142.67</td>\n",
              "      <td>932.8</td>\n",
              "      <td>312.30</td>\n",
              "      <td>6.27</td>\n",
              "      <td>22.47</td>\n",
              "      <td>2800.2</td>\n",
              "      <td>2906.7</td>\n",
              "      <td>18.700</td>\n",
              "      <td>32.624</td>\n",
              "    </tr>\n",
              "    <tr>\n",
              "      <th>4</th>\n",
              "      <td>1961Q1</td>\n",
              "      <td>2.00</td>\n",
              "      <td>2.35</td>\n",
              "      <td>2.87</td>\n",
              "      <td>3.64</td>\n",
              "      <td>3.79</td>\n",
              "      <td>31.80</td>\n",
              "      <td>33.63</td>\n",
              "      <td>29.84</td>\n",
              "      <td>19.17</td>\n",
              "      <td>142.23</td>\n",
              "      <td>948.9</td>\n",
              "      <td>317.10</td>\n",
              "      <td>6.80</td>\n",
              "      <td>22.13</td>\n",
              "      <td>2816.9</td>\n",
              "      <td>2934.8</td>\n",
              "      <td>18.743</td>\n",
              "      <td>32.073</td>\n",
              "    </tr>\n",
              "  </tbody>\n",
              "</table>\n",
              "</div>"
            ],
            "text/plain": [
              "     DATE   FFR  Tbill  Tb1yr    r5  ...  IndProd    RGDP  Potent  Deflator    Curr\n",
              "0  1960Q1  3.93   3.87   4.57  4.64  ...    23.93  2845.3  2824.2    18.521  31.830\n",
              "1  1960Q2  3.70   2.99   3.87  4.30  ...    23.41  2832.0  2851.2    18.579  31.862\n",
              "2  1960Q3  2.94   2.36   3.07  3.67  ...    23.02  2836.6  2878.7    18.648  32.217\n",
              "3  1960Q4  2.30   2.31   2.99  3.75  ...    22.47  2800.2  2906.7    18.700  32.624\n",
              "4  1961Q1  2.00   2.35   2.87  3.64  ...    22.13  2816.9  2934.8    18.743  32.073\n",
              "\n",
              "[5 rows x 19 columns]"
            ]
          },
          "metadata": {},
          "execution_count": 53
        }
      ]
    },
    {
      "cell_type": "code",
      "metadata": {
        "colab": {
          "base_uri": "https://localhost:8080/"
        },
        "id": "SDLa9sg2wFRp",
        "outputId": "59b22026-8fad-4d74-ee62-478e5ea2f02b"
      },
      "source": [
        "print(df.isna().sum())"
      ],
      "execution_count": 54,
      "outputs": [
        {
          "output_type": "stream",
          "name": "stdout",
          "text": [
            "DATE        0\n",
            "FFR         0\n",
            "Tbill       0\n",
            "Tb1yr       0\n",
            "r5          0\n",
            "r10         0\n",
            "PPINSA      0\n",
            "Finished    0\n",
            "CPI         0\n",
            "CPICORE     0\n",
            "M1NSA       0\n",
            "M2SA        0\n",
            "M2NSA       0\n",
            "Unemp       0\n",
            "IndProd     0\n",
            "RGDP        0\n",
            "Potent      0\n",
            "Deflator    0\n",
            "Curr        0\n",
            "dtype: int64\n"
          ]
        }
      ]
    },
    {
      "cell_type": "code",
      "metadata": {
        "id": "-Shz_xrpwFRp"
      },
      "source": [
        "inf = []\n",
        "for i in range(1,len(df)):\n",
        "    inf +=  [ 100 * (4 * ( (df[\"CPI\"][i]-df[\"CPI\"][i-1]) / df[\"CPI\"][i-1]) ) ]\n",
        "\n",
        "df_n = df[1:len(inf)+1]"
      ],
      "execution_count": 55,
      "outputs": []
    },
    {
      "cell_type": "code",
      "metadata": {
        "colab": {
          "base_uri": "https://localhost:8080/",
          "height": 497
        },
        "id": "NrdPBoXvwFRq",
        "outputId": "5fbab1fb-565d-48a1-d197-c7349f46db04"
      },
      "source": [
        "year = df_n['DATE']\n",
        "plt.figure(figsize=(15,8))\n",
        "plt.plot(year,inf)\n",
        "plt.ylabel(\"Rate of inflation\")\n",
        "plt.xlabel(\"Time\")\n",
        "plt.savefig(\"inflation_rate.png\")"
      ],
      "execution_count": 56,
      "outputs": [
        {
          "output_type": "display_data",
          "data": {
            "image/png": "[encoded data removed]",
            "text/plain": [
              "<Figure size 1080x576 with 1 Axes>"
            ]
          },
          "metadata": {
            "needs_background": "light"
          }
        }
      ]
    },
    {
      "cell_type": "markdown",
      "metadata": {
        "id": "o0W40a9Q_5ki"
      },
      "source": [
        "## 3)"
      ]
    },
    {
      "cell_type": "code",
      "metadata": {
        "colab": {
          "base_uri": "https://localhost:8080/",
          "height": 563
        },
        "id": "P52zl_t6_6yp",
        "outputId": "07ad8cc4-e065-4312-943d-21e863bfc604"
      },
      "source": [
        "\"\"\" plot autocorrelation \"\"\"\n",
        "from statsmodels.graphics.tsaplots import plot_acf\n",
        "plt.figure(1)\n",
        "plot_acf(np.array(inf))\n",
        "plt.savefig(\"autocorrelation.png\")\n",
        "\n",
        "\"\"\" plot partial autocorrelation \"\"\"\n",
        "from statsmodels.graphics.tsaplots import plot_pacf\n",
        "plt.figure(2)\n",
        "plot_pacf(np.array(inf))\n",
        "plt.savefig(\"partialautocorrelation.png\")\n"
      ],
      "execution_count": 57,
      "outputs": [
        {
          "output_type": "display_data",
          "data": {
            "text/plain": [
              "<Figure size 432x288 with 0 Axes>"
            ]
          },
          "metadata": {}
        },
        {
          "output_type": "display_data",
          "data": {
            "image/png": "[encoded data removed]",
            "text/plain": [
              "<Figure size 432x288 with 1 Axes>"
            ]
          },
          "metadata": {
            "needs_background": "light"
          }
        },
        {
          "output_type": "display_data",
          "data": {
            "image/png": "[encoded data removed]",
            "text/plain": [
              "<Figure size 432x288 with 1 Axes>"
            ]
          },
          "metadata": {
            "needs_background": "light"
          }
        }
      ]
    },
    {
      "cell_type": "markdown",
      "metadata": {
        "id": "S47GmrBGCnRI"
      },
      "source": [
        "**AUTOCORRELATION**\n",
        "\n",
        "We can calculate the correlation for time series observations with observations with previous time steps, called lags. Because the correlation of time series observations is calculated with values of the same at previous time, this is called **autocorrelation**.\n",
        "Confidence intervals are drawn a a cone. By default, this is set to 95% confidence interval, suggesting that correlation values outside of this cone are very likely a correlation and not a statistical fluke.\n",
        "\n",
        "\n",
        "**PARTIAL AUTOCORRELATION**\n",
        "\n",
        "\"The partial autocorrelation at lag k is the correlation that results after removing the effect of any correlations due to the terms at shorter lags\".\n",
        "\n",
        "The autocorrelation for an observation and an observation at a prior time step is comprised of both the direct and the indirect correlations. These indirect correlations are a linear function of the correlation of the observation, with observations at intervening time steps. It is these indirect correlations that the partial autocorrelation function seeks to remove.\n",
        "\n",
        "\n",
        "\n",
        "**How to interpret these graphs?**\n",
        "\n",
        "We know that the ACF describes the autocorrelation between an observation and another observation at a prior time step that includes direct and indirect dependence information.\n",
        "\n",
        "This means we would expect the ACF for the AR(k) time series to be strong to a lag of k and the inertia of that relationship would carry on to subsequent lag values, trailing off at some point as the effect was weakened.\n",
        "\n",
        "We know that the PACF only describes the direct relationship between an observation and its lag. This would suggest that there would be no correlation for lag values beyond k."
      ]
    },
    {
      "cell_type": "markdown",
      "metadata": {
        "id": "l_YUZF8sF3cQ"
      },
      "source": [
        "## 4)"
      ]
    },
    {
      "cell_type": "markdown",
      "metadata": {
        "id": "zdoGq5l3GYTH"
      },
      "source": [
        "**STATIONARY**\n",
        "\n",
        "A stationary time series process is one whose probability distributions are stable over time in the following sense: if we take any collection of random variables in the sequence and then shift that sequence ahead h time periods, the joint probability distribution must remain unchanged.\n",
        "\n",
        "**How is stationarity used in time series econometrics?**\n",
        "\n",
        "On a pratical level, if we want to understand the relationship between two or more variables using regression analysis, we need to assume some sort of stability over time. If we allow the relationship between to change arbitrarily in each time period, then we cannot hope to learn much about how a change in one variable affects the other variable if we only have access to a single time series realization.\n",
        "\n",
        "**ERGODICITY**\n",
        "\n",
        "With ergodicity, we are asking our process to move around the average, taking values all over its support. Otherwise, the risk of having a biased mean, tending towards the ‘area’ where the process is stuck, is high."
      ]
    },
    {
      "cell_type": "markdown",
      "metadata": {
        "id": "LuRLx_wcMO8X"
      },
      "source": [
        "## 5)"
      ]
    },
    {
      "cell_type": "code",
      "metadata": {
        "colab": {
          "base_uri": "https://localhost:8080/"
        },
        "id": "olfTRXLLMQIk",
        "outputId": "aa282fc4-54ac-478e-f7df-be3b9d15767e"
      },
      "source": [
        "import statsmodels.tsa.api as smt\n",
        "\n",
        "for i in range(1,11):\n",
        "  mdl = smt.AR(inf).fit(maxlag=i)\n",
        "  mdl.aic, mdl.bic\n",
        "  print(f\"order {i} - AIC {mdl.aic}\")"
      ],
      "execution_count": 58,
      "outputs": [
        {
          "output_type": "stream",
          "name": "stdout",
          "text": [
            "order 1 - AIC 1.417897947411437\n",
            "order 2 - AIC 1.3954288743310164\n",
            "order 3 - AIC 1.3147211279283673\n",
            "order 4 - AIC 1.320651115255999\n",
            "order 5 - AIC 1.319277809326233\n",
            "order 6 - AIC 1.3341763040907433\n",
            "order 7 - AIC 1.3421628181319731\n",
            "order 8 - AIC 1.3507619490897187\n",
            "order 9 - AIC 1.3648260444391345\n",
            "order 10 - AIC 1.3718938232009443\n"
          ]
        }
      ]
    },
    {
      "cell_type": "markdown",
      "metadata": {
        "id": "hzRjQPHzWR1V"
      },
      "source": [
        "We chose the model who minimizes the AIC score: the best model is $AR(3)$."
      ]
    },
    {
      "cell_type": "markdown",
      "metadata": {
        "id": "R3L0AYaRWZHW"
      },
      "source": [
        "## 6) Phillips curve model\n",
        "\n",
        "$unemp_t = \\beta_0 + \\beta_1*inf_t $"
      ]
    },
    {
      "cell_type": "code",
      "metadata": {
        "id": "jclYaLC2Zixo"
      },
      "source": [
        "unemp = df[\"Unemp\"]\n",
        "n = df.shape[0]\n",
        "unemp = unemp[1:n]\n",
        "\n",
        "const = np.ones(len(unemp))\n",
        "X = np.column_stack((const,inf))\n",
        "y = unemp"
      ],
      "execution_count": 59,
      "outputs": []
    },
    {
      "cell_type": "code",
      "metadata": {
        "colab": {
          "base_uri": "https://localhost:8080/",
          "height": 799
        },
        "id": "YoFL7fvjWep5",
        "outputId": "7a99973b-7c13-4d5b-fefb-7976685e4f83"
      },
      "source": [
        "model = sm.OLS(y,X)\n",
        "results = model.fit()\n",
        "print(results.summary())\n",
        "u = results.resid\n",
        "plt.figure(figsize=(10,5))\n",
        "\n",
        "plt.scatter(inf,unemp)\n",
        "plt.xlabel(\"Inflation rate\")\n",
        "plt.ylabel(\"Unemp\")\n",
        "inf = np.array(inf)\n",
        "plt.plot(inf,results.params[0] + (results.params[1]*inf), color = 'orange')"
      ],
      "execution_count": 60,
      "outputs": [
        {
          "output_type": "stream",
          "name": "stdout",
          "text": [
            "                            OLS Regression Results                            \n",
            "==============================================================================\n",
            "Dep. Variable:                  Unemp   R-squared:                       0.000\n",
            "Model:                            OLS   Adj. R-squared:                 -0.005\n",
            "Method:                 Least Squares   F-statistic:                   0.01214\n",
            "Date:                Fri, 19 Nov 2021   Prob (F-statistic):              0.912\n",
            "Time:                        09:56:11   Log-Likelihood:                -400.28\n",
            "No. Observations:                 211   AIC:                             804.6\n",
            "Df Residuals:                     209   BIC:                             811.3\n",
            "Df Model:                           1                                         \n",
            "Covariance Type:            nonrobust                                         \n",
            "==============================================================================\n",
            "                 coef    std err          t      P>|t|      [0.025      0.975]\n",
            "------------------------------------------------------------------------------\n",
            "const          6.0708      0.181     33.576      0.000       5.714       6.427\n",
            "x1             0.0040      0.036      0.110      0.912      -0.067       0.075\n",
            "==============================================================================\n",
            "Omnibus:                       13.872   Durbin-Watson:                   0.044\n",
            "Prob(Omnibus):                  0.001   Jarque-Bera (JB):               15.356\n",
            "Skew:                           0.660   Prob(JB):                     0.000463\n",
            "Kurtosis:                       2.937   Cond. No.                         8.32\n",
            "==============================================================================\n",
            "\n",
            "Warnings:\n",
            "[1] Standard Errors assume that the covariance matrix of the errors is correctly specified.\n"
          ]
        },
        {
          "output_type": "execute_result",
          "data": {
            "text/plain": [
              "[<matplotlib.lines.Line2D at 0x7fbf7ec99650>]"
            ]
          },
          "metadata": {},
          "execution_count": 60
        },
        {
          "output_type": "display_data",
          "data": {
            "image/png": "[encoded data removed]",
            "text/plain": [
              "<Figure size 720x360 with 1 Axes>"
            ]
          },
          "metadata": {
            "needs_background": "light"
          }
        }
      ]
    },
    {
      "cell_type": "markdown",
      "metadata": {
        "id": "9PS9VBIYfn0z"
      },
      "source": [
        "## 7) Test the autocorrelation of errors\n",
        "\n",
        "We test the autocorrelation of the errors by testing the hypothesis $H_0: \\rho = 0 $ in the equation $u_t = \\rho*u_{t-1} +v $."
      ]
    },
    {
      "cell_type": "code",
      "metadata": {
        "colab": {
          "base_uri": "https://localhost:8080/"
        },
        "id": "iJu17_i-gFsc",
        "outputId": "6aa2aa3a-4401-4dd1-dde9-65170115eada"
      },
      "source": [
        "n = len(u)\n",
        "u_1 = u[0:n-1]\n",
        "const = np.ones(n-1)\n",
        "X = np.column_stack((const,u_1))\n",
        "X = X[:,1]\n",
        "y = u[1:n]\n",
        "model = sm.OLS(y,X)\n",
        "results1 = model.fit()\n",
        "print(results1.summary())"
      ],
      "execution_count": 61,
      "outputs": [
        {
          "output_type": "stream",
          "name": "stdout",
          "text": [
            "                                 OLS Regression Results                                \n",
            "=======================================================================================\n",
            "Dep. Variable:                      y   R-squared (uncentered):                   0.956\n",
            "Model:                            OLS   Adj. R-squared (uncentered):              0.956\n",
            "Method:                 Least Squares   F-statistic:                              4557.\n",
            "Date:                Fri, 19 Nov 2021   Prob (F-statistic):                   6.88e-144\n",
            "Time:                        09:56:31   Log-Likelihood:                         -70.409\n",
            "No. Observations:                 210   AIC:                                      142.8\n",
            "Df Residuals:                     209   BIC:                                      146.2\n",
            "Df Model:                           1                                                  \n",
            "Covariance Type:            nonrobust                                                  \n",
            "==============================================================================\n",
            "                 coef    std err          t      P>|t|      [0.025      0.975]\n",
            "------------------------------------------------------------------------------\n",
            "x1             0.9799      0.015     67.507      0.000       0.951       1.009\n",
            "==============================================================================\n",
            "Omnibus:                       78.916   Durbin-Watson:                   0.666\n",
            "Prob(Omnibus):                  0.000   Jarque-Bera (JB):              244.932\n",
            "Skew:                           1.583   Prob(JB):                     6.51e-54\n",
            "Kurtosis:                       7.239   Cond. No.                         1.00\n",
            "==============================================================================\n",
            "\n",
            "Warnings:\n",
            "[1] Standard Errors assume that the covariance matrix of the errors is correctly specified.\n"
          ]
        }
      ]
    },
    {
      "cell_type": "code",
      "metadata": {
        "colab": {
          "base_uri": "https://localhost:8080/"
        },
        "id": "j5nTqK64kFo4",
        "outputId": "f156858f-dfae-43f6-b637-98c05c2944e1"
      },
      "source": [
        "coef = results1.params[0]\n",
        "stderr = 0.045\n",
        "n, k = X.shape[0], 1\n",
        "from scipy.stats import t\n",
        "print(f\"T-statistic : {coef/stderr:.3f}, p-value: {2*t.sf(coef/stderr,n-k):.3f}\")"
      ],
      "execution_count": 62,
      "outputs": [
        {
          "output_type": "stream",
          "name": "stdout",
          "text": [
            "T-statistic : 21.776, p-value: 0.000\n"
          ]
        }
      ]
    },
    {
      "cell_type": "markdown",
      "metadata": {
        "id": "9U5i6DZJj9NW"
      },
      "source": [
        "The tstatistic is **t=21.776**. The pvalue is 0. We reject $H_0$ at 1%. We have errors autocorrelation."
      ]
    },
    {
      "cell_type": "markdown",
      "metadata": {
        "id": "WYUsz2S_hQOU"
      },
      "source": [
        "## 8) Correct the autocorrelation error using methods seen in the course\n",
        "\n",
        "We can use the transformation $inf(t)-\\rho*inf(t-1) $ and $unemp(t)-\\rho*unemp(t-1)$."
      ]
    },
    {
      "cell_type": "code",
      "metadata": {
        "colab": {
          "base_uri": "https://localhost:8080/"
        },
        "id": "xguxf4JuhVVk",
        "outputId": "99cf6c13-f12a-45f4-b2c9-fda482e93e4f"
      },
      "source": [
        "rho = results1.params[0]\n",
        "print(rho)\n",
        "n = len(inf)\n",
        "\n",
        "inf_n = np.array(inf[1:n])\n",
        "unemp_n = np.array(unemp[1:n])\n",
        "\n",
        "inf_1 = rho*np.array(inf[0:n-1])\n",
        "unemp_1 = rho*np.array(unemp[0:n-1])\n",
        "\n",
        "y = unemp_n - unemp_1\n",
        "X_un = inf_n - inf_1\n",
        "\n",
        "const = (1-rho)*np.ones(n-1)\n",
        "X = np.column_stack((const,X_un))\n",
        "model = sm.OLS(y,X)\n",
        "results = model.fit()\n",
        "print(results.summary())"
      ],
      "execution_count": 63,
      "outputs": [
        {
          "output_type": "stream",
          "name": "stdout",
          "text": [
            "0.979923779970792\n",
            "                            OLS Regression Results                            \n",
            "==============================================================================\n",
            "Dep. Variable:                      y   R-squared:                       0.024\n",
            "Model:                            OLS   Adj. R-squared:                  0.020\n",
            "Method:                 Least Squares   F-statistic:                     5.203\n",
            "Date:                Fri, 19 Nov 2021   Prob (F-statistic):             0.0236\n",
            "Time:                        09:56:38   Log-Likelihood:                -66.797\n",
            "No. Observations:                 210   AIC:                             137.6\n",
            "Df Residuals:                     208   BIC:                             144.3\n",
            "Df Model:                           1                                         \n",
            "Covariance Type:            nonrobust                                         \n",
            "==============================================================================\n",
            "                 coef    std err          t      P>|t|      [0.025      0.975]\n",
            "------------------------------------------------------------------------------\n",
            "x1             6.7924      1.149      5.909      0.000       4.526       9.058\n",
            "x2            -0.0249      0.011     -2.281      0.024      -0.046      -0.003\n",
            "==============================================================================\n",
            "Omnibus:                       82.044   Durbin-Watson:                   0.725\n",
            "Prob(Omnibus):                  0.000   Jarque-Bera (JB):              283.535\n",
            "Skew:                           1.600   Prob(JB):                     2.70e-62\n",
            "Kurtosis:                       7.707   Cond. No.                         105.\n",
            "==============================================================================\n",
            "\n",
            "Warnings:\n",
            "[1] Standard Errors assume that the covariance matrix of the errors is correctly specified.\n"
          ]
        }
      ]
    },
    {
      "cell_type": "markdown",
      "metadata": {
        "id": "pysOdm8d9adf"
      },
      "source": [
        "## 9) Test the stability of the unemployment-inflation relationship over two sub-periods of identical size (test of change in structure before and after half of the observation period)"
      ]
    },
    {
      "cell_type": "code",
      "metadata": {
        "colab": {
          "base_uri": "https://localhost:8080/",
          "height": 781
        },
        "id": "tKfk77M3Y5RZ",
        "outputId": "df6d71e4-2563-4c6d-bc54-a6e2584d3895"
      },
      "source": [
        "\"\"\" split the dataset in two sub-periods of identical size \"\"\"\n",
        "\n",
        "len = df.shape[0]\n",
        "n = int(len/2)\n",
        "inf = np.array(inf)\n",
        "\n",
        "y_1 = df[\"Unemp\"][1:n+1]\n",
        "const_1 = np.ones(np.shape(y_1))\n",
        "inf_1 = inf[0:n] \n",
        "X_1 = np.column_stack((const_1,inf_1))\n",
        "\n",
        "model1 = sm.OLS(y_1,X_1)\n",
        "results1 = model1.fit()\n",
        "print(results1.summary())\n",
        "\n",
        "plt.figure(1,figsize=(10,5))\n",
        "plt.scatter(inf_1,y_1)\n",
        "plt.xlabel(\"Inflation rate from 1960Q2 to 1986Q3\")\n",
        "plt.ylabel(\"Unemp\")\n",
        "plt.plot(inf_1,results1.params[0] + (results1.params[1]*inf_1), color = 'orange')\n",
        "plt.savefig(\"firstpart.png\")"
      ],
      "execution_count": 64,
      "outputs": [
        {
          "output_type": "stream",
          "name": "stdout",
          "text": [
            "                            OLS Regression Results                            \n",
            "==============================================================================\n",
            "Dep. Variable:                  Unemp   R-squared:                       0.006\n",
            "Model:                            OLS   Adj. R-squared:                 -0.003\n",
            "Method:                 Least Squares   F-statistic:                    0.6523\n",
            "Date:                Fri, 19 Nov 2021   Prob (F-statistic):              0.421\n",
            "Time:                        09:56:42   Log-Likelihood:                -205.79\n",
            "No. Observations:                 106   AIC:                             415.6\n",
            "Df Residuals:                     104   BIC:                             420.9\n",
            "Df Model:                           1                                         \n",
            "Covariance Type:            nonrobust                                         \n",
            "==============================================================================\n",
            "                 coef    std err          t      P>|t|      [0.025      0.975]\n",
            "------------------------------------------------------------------------------\n",
            "const          5.9554      0.285     20.928      0.000       5.391       6.520\n",
            "x1             0.0373      0.046      0.808      0.421      -0.054       0.129\n",
            "==============================================================================\n",
            "Omnibus:                        3.671   Durbin-Watson:                   0.059\n",
            "Prob(Omnibus):                  0.160   Jarque-Bera (JB):                3.569\n",
            "Skew:                           0.446   Prob(JB):                        0.168\n",
            "Kurtosis:                       2.887   Cond. No.                         10.8\n",
            "==============================================================================\n",
            "\n",
            "Warnings:\n",
            "[1] Standard Errors assume that the covariance matrix of the errors is correctly specified.\n"
          ]
        },
        {
          "output_type": "display_data",
          "data": {
            "image/png": "[encoded data removed]",
            "text/plain": [
              "<Figure size 720x360 with 1 Axes>"
            ]
          },
          "metadata": {
            "needs_background": "light"
          }
        }
      ]
    },
    {
      "cell_type": "code",
      "metadata": {
        "colab": {
          "base_uri": "https://localhost:8080/",
          "height": 779
        },
        "id": "QynYnch8fyQa",
        "outputId": "55200c32-2e0e-467a-8200-d585474c5c49"
      },
      "source": [
        "y_2 = df[\"Unemp\"][n+1::]\n",
        "const_2 = np.ones(np.shape(y_2))\n",
        "inf_2 = inf[n::] \n",
        "X_2 = np.column_stack((const_2,inf_2))\n",
        "\n",
        "model2 = sm.OLS(y_2,X_2)\n",
        "results2 = model2.fit()\n",
        "print(results2.summary())\n",
        "\n",
        "plt.figure(1,figsize=(10,5))\n",
        "plt.scatter(inf_2,y_2)\n",
        "plt.xlabel(\"Inflation rate from 1986Q4 to 2012Q4\")\n",
        "plt.ylabel(\"Unemp\")\n",
        "plt.plot(inf_2,results2.params[0] + (results2.params[1]*inf_2), color = 'orange')\n",
        "plt.savefig(\"secondpart.png\")"
      ],
      "execution_count": 65,
      "outputs": [
        {
          "output_type": "stream",
          "name": "stdout",
          "text": [
            "                            OLS Regression Results                            \n",
            "==============================================================================\n",
            "Dep. Variable:                  Unemp   R-squared:                       0.031\n",
            "Model:                            OLS   Adj. R-squared:                  0.021\n",
            "Method:                 Least Squares   F-statistic:                     3.251\n",
            "Date:                Fri, 19 Nov 2021   Prob (F-statistic):             0.0743\n",
            "Time:                        09:56:52   Log-Likelihood:                -191.85\n",
            "No. Observations:                 105   AIC:                             387.7\n",
            "Df Residuals:                     103   BIC:                             393.0\n",
            "Df Model:                           1                                         \n",
            "Covariance Type:            nonrobust                                         \n",
            "==============================================================================\n",
            "                 coef    std err          t      P>|t|      [0.025      0.975]\n",
            "------------------------------------------------------------------------------\n",
            "const          6.4161      0.260     24.639      0.000       5.900       6.933\n",
            "x1            -0.1352      0.075     -1.803      0.074      -0.284       0.014\n",
            "==============================================================================\n",
            "Omnibus:                       12.911   Durbin-Watson:                   0.082\n",
            "Prob(Omnibus):                  0.002   Jarque-Bera (JB):               14.436\n",
            "Skew:                           0.906   Prob(JB):                     0.000733\n",
            "Kurtosis:                       3.131   Cond. No.                         6.45\n",
            "==============================================================================\n",
            "\n",
            "Warnings:\n",
            "[1] Standard Errors assume that the covariance matrix of the errors is correctly specified.\n"
          ]
        },
        {
          "output_type": "display_data",
          "data": {
            "image/png": "[encoded data removed]",
            "text/plain": [
              "<Figure size 720x360 with 1 Axes>"
            ]
          },
          "metadata": {
            "needs_background": "light"
          }
        }
      ]
    },
    {
      "cell_type": "markdown",
      "metadata": {
        "id": "oGLOcy76h9pw"
      },
      "source": [
        "The relation is not stable."
      ]
    },
    {
      "cell_type": "markdown",
      "metadata": {
        "id": "UW7eB-ELiB7x"
      },
      "source": [
        "## 10) "
      ]
    },
    {
      "cell_type": "code",
      "metadata": {
        "colab": {
          "base_uri": "https://localhost:8080/"
        },
        "id": "y0gr52iYiBBg",
        "outputId": "04794676-b202-40b9-f4e4-7a7d994975e9"
      },
      "source": [
        "\"\"\" model with inflation and unemployment (lag 4) \"\"\"\n",
        "n = df.shape[0]\n",
        "unemp = df[\"Unemp\"][1:n]\n",
        "inf = inf\n",
        "\n",
        "inf_1 = inf[3:n-2]\n",
        "inf_2 = inf[2:n-3]\n",
        "inf_3 = inf[1:n-4]\n",
        "inf_4 = inf[0:n-5]\n",
        "\n",
        "unemp_1 = unemp[3:n-2]\n",
        "unemp_2 = unemp[2:n-3]\n",
        "unemp_3 = unemp[1:n-4]\n",
        "unemp_4 = unemp[0:n-5]\n",
        "y = unemp[4:n]\n",
        "\n",
        "const = np.ones(np.shape(y))\n",
        "\n",
        "# print(inf_1.shape,inf_2.shape,inf_3.shape, inf_4.shape, const.shape)\n",
        "\"\"\" unrestricted model \"\"\"\n",
        "X = np.column_stack((const,inf_1,inf_2,inf_3,inf_4,unemp_1,unemp_2,unemp_3,unemp_4))\n",
        "X0=X\n",
        "n,k = X.shape\n",
        "\n",
        "model = sm.OLS(y,X)\n",
        "results = model.fit()\n",
        "res = results\n",
        "print(results.summary())\n",
        "u = results.resid\n",
        "SSR0 = u.T@u\n",
        "print(SSR0)\n",
        "\n",
        "\"\"\" restricted model \"\"\"\n",
        "X = np.column_stack((const,unemp_1,unemp_2,unemp_3,unemp_4))\n",
        "\n",
        "model = sm.OLS(y,X)\n",
        "results1 = model.fit()\n",
        "print(results1.summary())\n",
        "u = results1.resid\n",
        "SSR1 = u.T@u\n",
        "print(SSR1)\n",
        "\n",
        "F = ( (SSR1-SSR0) / 4 ) / ( SSR0/ (n-8-1) )\n",
        "pv = f.sf(F,4,n-8)\n",
        "print(f\"Fstatistic:{F:.4f}, pvalue: {pv:.4f}\")"
      ],
      "execution_count": 66,
      "outputs": [
        {
          "output_type": "stream",
          "name": "stdout",
          "text": [
            "                            OLS Regression Results                            \n",
            "==============================================================================\n",
            "Dep. Variable:                  Unemp   R-squared:                       0.979\n",
            "Model:                            OLS   Adj. R-squared:                  0.978\n",
            "Method:                 Least Squares   F-statistic:                     1145.\n",
            "Date:                Fri, 19 Nov 2021   Prob (F-statistic):          2.80e-161\n",
            "Time:                        09:56:56   Log-Likelihood:                 4.6497\n",
            "No. Observations:                 207   AIC:                             8.701\n",
            "Df Residuals:                     198   BIC:                             38.70\n",
            "Df Model:                           8                                         \n",
            "Covariance Type:            nonrobust                                         \n",
            "==============================================================================\n",
            "                 coef    std err          t      P>|t|      [0.025      0.975]\n",
            "------------------------------------------------------------------------------\n",
            "const          0.1457      0.072      2.014      0.045       0.003       0.288\n",
            "x1             0.0078      0.009      0.827      0.409      -0.011       0.026\n",
            "x2            -0.0059      0.010     -0.577      0.565      -0.026       0.014\n",
            "x3             0.0172      0.010      1.729      0.085      -0.002       0.037\n",
            "x4             0.0041      0.009      0.435      0.664      -0.014       0.023\n",
            "x5             1.5937      0.071     22.383      0.000       1.453       1.734\n",
            "x6            -0.6472      0.134     -4.832      0.000      -0.911      -0.383\n",
            "x7             0.0222      0.135      0.164      0.870      -0.245       0.289\n",
            "x8            -0.0080      0.070     -0.114      0.910      -0.146       0.130\n",
            "==============================================================================\n",
            "Omnibus:                       29.127   Durbin-Watson:                   1.997\n",
            "Prob(Omnibus):                  0.000   Jarque-Bera (JB):               68.886\n",
            "Skew:                           0.625   Prob(JB):                     1.10e-15\n",
            "Kurtosis:                       5.534   Cond. No.                         170.\n",
            "==============================================================================\n",
            "\n",
            "Warnings:\n",
            "[1] Standard Errors assume that the covariance matrix of the errors is correctly specified.\n",
            "11.587384278415227\n",
            "                            OLS Regression Results                            \n",
            "==============================================================================\n",
            "Dep. Variable:                  Unemp   R-squared:                       0.977\n",
            "Model:                            OLS   Adj. R-squared:                  0.977\n",
            "Method:                 Least Squares   F-statistic:                     2165.\n",
            "Date:                Fri, 19 Nov 2021   Prob (F-statistic):          1.36e-164\n",
            "Time:                        09:56:56   Log-Likelihood:                -2.9991\n",
            "No. Observations:                 207   AIC:                             16.00\n",
            "Df Residuals:                     202   BIC:                             32.66\n",
            "Df Model:                           4                                         \n",
            "Covariance Type:            nonrobust                                         \n",
            "==============================================================================\n",
            "                 coef    std err          t      P>|t|      [0.025      0.975]\n",
            "------------------------------------------------------------------------------\n",
            "const          0.2157      0.071      3.036      0.003       0.076       0.356\n",
            "x1             1.6459      0.070     23.393      0.000       1.507       1.785\n",
            "x2            -0.6975      0.135     -5.159      0.000      -0.964      -0.431\n",
            "x3             0.0238      0.135      0.177      0.860      -0.241       0.289\n",
            "x4            -0.0078      0.070     -0.112      0.911      -0.145       0.130\n",
            "==============================================================================\n",
            "Omnibus:                       39.770   Durbin-Watson:                   1.996\n",
            "Prob(Omnibus):                  0.000   Jarque-Bera (JB):               83.656\n",
            "Skew:                           0.908   Prob(JB):                     6.83e-19\n",
            "Kurtosis:                       5.530   Cond. No.                         138.\n",
            "==============================================================================\n",
            "\n",
            "Warnings:\n",
            "[1] Standard Errors assume that the covariance matrix of the errors is correctly specified.\n",
            "12.47614816930728\n",
            "Fstatistic:3.7967, pvalue: 0.0053\n"
          ]
        }
      ]
    },
    {
      "cell_type": "markdown",
      "metadata": {
        "id": "Pc_nJpuL7Ky1"
      },
      "source": [
        "## 11)"
      ]
    },
    {
      "cell_type": "code",
      "metadata": {
        "colab": {
          "base_uri": "https://localhost:8080/",
          "height": 460
        },
        "id": "x3ogVfSlCTD2",
        "outputId": "0ea1fbe2-c193-4967-e17e-49a0df7bebad"
      },
      "source": [
        "\"\"\" lag distribution \"\"\"\n",
        "x = [1,2,3,4]\n",
        "d_inf = [results.params[1], results.params[2], results.params[3], results.params[4]]\n",
        "plt.figure(figsize=(10,7))\n",
        "plt.bar(x,d_inf)\n",
        "plt.xlabel(\"j\")\n",
        "plt.ylabel(\"σ(j)\")\n",
        "plt.savefig(\"lagditr.png\")\n",
        "\"\"\" long term impact \"\"\"\n",
        "LRP = results.params[1:5].sum()\n",
        "print(f\"The long term impact is {LRP:.3f}\")"
      ],
      "execution_count": 68,
      "outputs": [
        {
          "output_type": "stream",
          "name": "stdout",
          "text": [
            "The long term impact is 0.023\n"
          ]
        },
        {
          "output_type": "display_data",
          "data": {
            "image/png": "[encoded data removed]",
            "text/plain": [
              "<Figure size 720x504 with 1 Axes>"
            ]
          },
          "metadata": {
            "needs_background": "light"
          }
        }
      ]
    }
  ]
}